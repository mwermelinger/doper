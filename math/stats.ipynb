{
 "cells": [
  {
   "cell_type": "markdown",
   "metadata": {
    "lines_to_next_cell": 0
   },
   "source": [
    "# Statistics\n",
    "\n",
    "_This document is part of [doper](https://github.com/mwermelinger/doper),\n",
    "a collection of domain-oriented programming exercises._\n",
    "\n",
    "Statistics is the branch of mathematics that deals with collecting, analysing\n",
    "and presenting data. Statistics are used to inform most human activity,\n",
    "whether it's scientific research, business management or government policy.\n",
    "Statistics are used in advertisements and in the press,\n",
    "sometimes to influence our opinion.\n",
    "It's increasingly important to have some knowledge of statistics.\n",
    "\n",
    "The following exercises ask you to implement simple statistical measures\n",
    "that summarise the collected data.\n",
    "For all exercises, the collected data is a non-empty list of integers.\n",
    "They can represent daily sales of a product, daily temperatures or rainfall,\n",
    "salaries of surveyed people, etc.\n",
    "\n",
    "If you're taking an algorithms and data structures course, you may wish to\n",
    "measure the run-time of your functions and analyse their complexity.\n",
    "\n",
    "## 1 Variability\n",
    "A simple measure of how much the data varies is its **range**:\n",
    "the difference between the largest and the smallest value.\n",
    "\n",
    "There are at least two ways of implementing this measure,\n",
    "by doing two passes or one pass over the data."
   ]
  },
  {
   "cell_type": "code",
   "execution_count": 1,
   "metadata": {},
   "outputs": [],
   "source": [
    "def range_of(values: list) -> int:\n",
    "    \"\"\"Return the difference between the largest and smallest values.\"\"\"\n",
    "    pass\n",
    "\n",
    "assert range_of([5]) == 0               # range is 5 - 5\n",
    "assert range_of([3, 1, -4, 2]) == 7     # range is 3 - -4\n",
    "assert range_of([1, 2, 4, 8, 16]) == 15"
   ]
  },
  {
   "cell_type": "markdown",
   "metadata": {
    "lines_to_next_cell": 0
   },
   "source": [
    "## 2 Central tendency\n",
    "There are three common measures to indicate the 'central' value in the data.\n",
    "\n",
    "### 2.1 Mean\n",
    "The **mean** is the sum of the values, divided by how many there are.\n",
    "For example, the mean of 1, 2, 3 and 20 is (1 + 2 + 3 + 20) / 4 = 26 / 4 = 6.5."
   ]
  },
  {
   "cell_type": "code",
   "execution_count": 2,
   "metadata": {},
   "outputs": [],
   "source": [
    "def mean(values: list) -> float:\n",
    "    \"\"\"Return the sum of the values divided by the number of values.\"\"\"\n",
    "    pass\n",
    "\n",
    "assert mean([1, 2, 3, 20]) == 6.5\n",
    "assert mean([2, 20, 1, 3]) == 6.5   # the order doesn't matter\n",
    "assert mean([5, -5]) == 0\n",
    "assert mean([2, 2, 2]) == 2"
   ]
  },
  {
   "cell_type": "markdown",
   "metadata": {
    "lines_to_next_cell": 0
   },
   "source": [
    "### 2.2 Median\n",
    "The **median** is the middle value if we list the values in sorted order\n",
    "(from lowest to highest, or highest to lowest, it doesn't matter).\n",
    "For example, the median of 7, 5 and 15 is 7, because it's the middle value\n",
    "of 5, 7, 15 and of 15, 7, 5.\n",
    "\n",
    "If there's an even number of values, then there are two values in the middle.\n",
    "In that case, the median is the mean of those values. For example, the median of\n",
    "1, 2, 3 and 20 is the mean of 2 and 3, namely 2.5.\n",
    "\n",
    "This exercise requires sorting.\n",
    "Use Python's `sorted` function to avoid modifying the input list."
   ]
  },
  {
   "cell_type": "code",
   "execution_count": 3,
   "metadata": {
    "lines_to_next_cell": 0
   },
   "outputs": [],
   "source": [
    "def median(values: list) -> float:\n",
    "    \"\"\"Return the middle of the sorted values, or the mean of both middle values.\"\"\"\n",
    "    pass\n",
    "\n",
    "assert median([5]) == 5\n",
    "assert median([7, 5, 15]) == 7\n",
    "assert median([1, 2, 3, 20]) == 2.5"
   ]
  },
  {
   "cell_type": "markdown",
   "metadata": {
    "lines_to_next_cell": 0
   },
   "source": [
    "Unfortunately, the press, adverts and even reports tend to use the word\n",
    "'average' instead of 'median' or 'mean'.\n",
    "\n",
    "The statement \"the average salary is X\" is meaningless without clarification.\n",
    "If the average is the median, then half of the people earn less than X\n",
    "and half earn more, but if the average is the mean, then it's likely\n",
    "many more than half the people earn less than X because even a few\n",
    "very high earners make the mean salary increase.\n",
    "As you've seen, the median of 1, 2, 3, 20 is 2.5 but the mean is 6.5,\n",
    "more than double of the median.\n",
    "\n",
    "### 2.2 Mode\n",
    "The **mode** is the most common value in the data.\n",
    "For example, the mode of 2, 3, 2, 3, 0 and 2 is 2 because it occurs three times,\n",
    "more often than the other values (0 occurs once and 3 occurs twice).\n",
    "\n",
    "You can assume that exactly one value occurs more often than the others.\n",
    "In other words, you don't have to deal with values like 1, 2, 3, 2 and 1,\n",
    "which have more than one mode.\n",
    "\n",
    "There are several ways of computing the mode, some involving\n",
    "additional data structures. As before, do not modify the input list."
   ]
  },
  {
   "cell_type": "code",
   "execution_count": 4,
   "metadata": {},
   "outputs": [],
   "source": [
    "def mode(values: list) -> int:\n",
    "    \"\"\"Return the value that occurs most frequently.\"\"\"\n",
    "    pass\n",
    "\n",
    "assert mode([5]) == 5\n",
    "assert mode([2, 3, 2, 3, 0, 2]) == 2"
   ]
  }
 ],
 "metadata": {
  "jupytext": {
   "cell_metadata_filter": "-all"
  },
  "kernelspec": {
   "display_name": "Python 3",
   "language": "python",
   "name": "python3"
  },
  "language_info": {
   "codemirror_mode": {
    "name": "ipython",
    "version": 3
   },
   "file_extension": ".py",
   "mimetype": "text/x-python",
   "name": "python",
   "nbconvert_exporter": "python",
   "pygments_lexer": "ipython3",
   "version": "3.8.5"
  }
 },
 "nbformat": 4,
 "nbformat_minor": 4
}
