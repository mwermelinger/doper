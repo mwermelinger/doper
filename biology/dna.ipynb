{
 "cells": [
  {
   "cell_type": "markdown",
   "metadata": {
    "lines_to_next_cell": 0
   },
   "source": [
    "_This document is part of [doper](https://github.com/mwermelinger/doper),\n",
    "a collection of domain-oriented programming exercises._\n",
    "\n",
    "# DNA\n",
    "This notebook contains exercises on strings that represent DNA strands.\n",
    "No knowledge of biology is necessary to solve these problems:\n",
    "they can be seen as pure string manipulation exercises.\n",
    "Most are adapted from the [Rosalind](http://rosalind.info/) site,\n",
    "which provides more details on the biological background.\n",
    "\n",
    "Each exercise can be solved in various ways and you may wish to\n",
    "discuss the pros and cons of each solution with colleagues.\n",
    "\n",
    "## Part 1\n",
    "The exercises in this part don't require any data structures besides strings.\n",
    "\n",
    "### 1.1 Is it DNA?\n",
    "Deoxyribose nucleic acid (DNA) is a molecule that contains\n",
    "an organism's genetic code.\n",
    "A DNA strand is a sequence of bases adenine, cytosine, guanine and thymine.\n",
    "Such a strand can be modelled as a string of the letters A, C, G and T.\n",
    "\n",
    "Check if a string represents a DNA strand."
   ]
  },
  {
   "cell_type": "code",
   "execution_count": 1,
   "metadata": {
    "lines_to_next_cell": 0
   },
   "outputs": [],
   "source": [
    "def is_dna(string: str) -> bool:\n",
    "    \"\"\"Check if `string` has no characters other than A, C, G and T.\"\"\"\n",
    "    pass\n",
    "\n",
    "assert is_dna('CAT')\n",
    "assert is_dna('CATTAG')\n",
    "assert not is_dna('CAGE')\n",
    "assert not is_dna('cat')"
   ]
  },
  {
   "cell_type": "markdown",
   "metadata": {
    "lines_to_next_cell": 0
   },
   "source": [
    "**Further exercises:**\n",
    "\n",
    "1. According to the description in the docstring, does the empty string\n",
    "   represent a DNA strand or not? Write the appropriate test.\n",
    "1. Change your function so that it accepts strings with lowercase letters,\n",
    "   like `cat` and `cAttAg`. Change the docstring and tests accordingly.\n",
    "\n",
    "In the remaining exercises you can assume the input to represent a DNA strand.\n",
    "\n",
    "### 1.2 GC-content\n",
    "The GC-content of a DNA strand is the percentage of cytosine and guanine bases.\n",
    "The GC-content is about 50% in eukaryotes (multi-cellular organisms)\n",
    "but much higher in prokaryotes (bacteria).\n",
    "We can therefore know which kind of organism it is from a DNA sample.\n",
    "\n",
    "Complete the next function. Use Python's `round` function to\n",
    "round the percentage to an integer from 0 to 100."
   ]
  },
  {
   "cell_type": "code",
   "execution_count": 2,
   "metadata": {
    "lines_to_next_cell": 0
   },
   "outputs": [],
   "source": [
    "def gc_content(dna: str) -> int:\n",
    "    \"\"\"Return the percentage of Gs and Cs in `dna`, rounded to an integer.\"\"\"\n",
    "    pass\n",
    "\n",
    "assert gc_content('ATTA') == 0\n",
    "assert gc_content('GCC') == 100\n",
    "assert gc_content('GAGA') == 50\n",
    "assert gc_content('CATTAG') == 33"
   ]
  },
  {
   "cell_type": "markdown",
   "metadata": {
    "lines_to_next_cell": 0
   },
   "source": [
    "This exercise is a simplification of Rosalind problem\n",
    "[GC](http://rosalind.info/problems/gc).\n",
    "\n",
    "### 1.3 Reverse complement\n",
    "A DNA molecule consists of two strands, running in contrary directions\n",
    "and twisted into a double helix that looks like a spiral staircase.\n",
    "Each base in one strand bonds to the complementary base in the opposite strand.\n",
    "Adenine and thymine are complementary, and so are cytosine and guanine.\n",
    "\n",
    "This structure allows organisms to grow by splitting the helix and\n",
    "constructing the missing half in each cell.\n",
    "\n",
    "Given the representation of a DNA strand,\n",
    "compute the representation of the opposite strand in the double helix,\n",
    "by reversing and complementing the input."
   ]
  },
  {
   "cell_type": "code",
   "execution_count": 3,
   "metadata": {
    "lines_to_next_cell": 0
   },
   "outputs": [],
   "source": [
    "def opposite(dna: str) -> str:\n",
    "    \"\"\"Return the complement of `dna`, in reverse order.\"\"\"\n",
    "    pass\n",
    "\n",
    "assert opposite('A') == 'T'\n",
    "assert opposite('AACCG') == 'CGGTT'\n",
    "assert opposite('ACGT') == 'ACGT'"
   ]
  },
  {
   "cell_type": "markdown",
   "metadata": {
    "lines_to_next_cell": 0
   },
   "source": [
    "This is Rosalind problem [REVC](http://rosalind.info/problems/revc).\n",
    "\n",
    "### 1.4 DNA similarity\n",
    "Scientists need to know how similar two DNA strands are, for paternity tests,\n",
    "forensic investigations, analysing the evolution of species, etc.\n",
    "If two DNA strands are from different species, a high similarity may indicate\n",
    "that the two species are related, in evolutionary terms.\n",
    "\n",
    "One very simple and crude similarity measure is the Hamming distance:\n",
    "the number of positions at which two strings of the same length differ.\n",
    "The lower the distance, the more similar the strings are."
   ]
  },
  {
   "cell_type": "code",
   "execution_count": 4,
   "metadata": {
    "lines_to_next_cell": 0
   },
   "outputs": [],
   "source": [
    "def hamming(string1: str, string2: str) -> int:\n",
    "    \"\"\"Return the Hamming distance of two strings of the same length.\"\"\"\n",
    "    pass\n",
    "\n",
    "assert hamming('Hello', 'Hello') == 0   # identical strings have distance zero\n",
    "assert hamming('more', 'mode') == 1\n",
    "assert hamming('CAT', 'TAG') == 2\n",
    "assert hamming('CATTAG', 'TAGCAT') == 4"
   ]
  },
  {
   "cell_type": "markdown",
   "metadata": {
    "lines_to_next_cell": 0
   },
   "source": [
    "This is Rosalind problem [HAMM](http://rosalind.info/problems/hamm/).\n",
    "\n",
    "### 1.5 RNA\n",
    "Ribose nucleic acid (RNA) is like DNA but it is made of a different sugar\n",
    "(ribose instead of deoxyribose) and uses the base uracil instead of thymine.\n",
    "A RNA strand can thus be modelled as a string of letters A, C, G and U.\n",
    "\n",
    "The next function simulates RNA transcription: the process in which organisms\n",
    "create an RNA strand by reading a DNA strand."
   ]
  },
  {
   "cell_type": "code",
   "execution_count": 5,
   "metadata": {
    "lines_to_next_cell": 0
   },
   "outputs": [],
   "source": [
    "def dna_to_rna(dna: str) -> str:\n",
    "    \"\"\"Return a string like `dna`, but with each T replaced with U.\"\"\"\n",
    "    pass\n",
    "\n",
    "assert dna_to_rna('CGA') == 'CGA'\n",
    "assert dna_to_rna('CATTAG') == 'CAUUAG'\n",
    "assert dna_to_rna('TTT') == 'UUU'"
   ]
  },
  {
   "cell_type": "markdown",
   "metadata": {
    "lines_to_next_cell": 0
   },
   "source": [
    "This exercise is a simplification of Rosalind problem\n",
    "[RNA](http://rosalind.info/problems/rna).\n",
    "\n",
    "## Part 2\n",
    "This part is better suited for an algorithms and data structures course:\n",
    "the exercises require measuring run-times or using additional data types,\n",
    "like maps (in Python: dictionaries), sets and multisets (bags).\n",
    "\n",
    "A general exercise (that also applies to the Part 1 problems) is\n",
    "to analyse the run-time complexity of your solutions.\n",
    "\n",
    "### 2.1 Is it DNA?\n",
    "Reimplement the `is_dna` function, using sets."
   ]
  },
  {
   "cell_type": "code",
   "execution_count": 6,
   "metadata": {
    "lines_to_next_cell": 0
   },
   "outputs": [],
   "source": [
    "def is_dna_set(string: str) -> bool:\n",
    "    \"\"\"Check if `string` has no characters other than A, C, G and T.\n",
    "\n",
    "    This version uses sets.\n",
    "    \"\"\"\n",
    "    pass\n",
    "\n",
    "assert is_dna('CAT')\n",
    "assert is_dna('CATTAG')\n",
    "assert not is_dna('CAGE')"
   ]
  },
  {
   "cell_type": "markdown",
   "metadata": {
    "lines_to_next_cell": 0
   },
   "source": [
    "The following creates two long strings, but only one represents a DNA strand."
   ]
  },
  {
   "cell_type": "code",
   "execution_count": 7,
   "metadata": {
    "lines_to_next_cell": 0
   },
   "outputs": [],
   "source": [
    "import random\n",
    "\n",
    "letters = []\n",
    "for _ in range(1000):\n",
    "    letters.append(random.choice('ACGT'))\n",
    "random_dna = ''.join(letters)   # convert list of characters to string\n",
    "letters[100] = 'X'\n",
    "not_dna = ''.join(letters)\n",
    "\n",
    "assert is_dna(random_dna) == is_dna_set(random_dna) == True\n",
    "assert is_dna(not_dna) == is_dna_set(not_dna) == False"
   ]
  },
  {
   "cell_type": "markdown",
   "metadata": {
    "lines_to_next_cell": 0
   },
   "source": [
    "Measure the run-times and compare."
   ]
  },
  {
   "cell_type": "code",
   "execution_count": 8,
   "metadata": {
    "lines_to_next_cell": 0
   },
   "outputs": [],
   "source": [
    "# measure the run-times for is_dna(random_dna) and is_dna_set(random_dna)\n",
    "# measure the run-times for is_dna(not_dna) and is_dna_set(random_dna)"
   ]
  },
  {
   "cell_type": "markdown",
   "metadata": {
    "lines_to_next_cell": 0
   },
   "source": [
    "Explain under which circumstances one function is faster than the other.\n",
    "\n",
    "### 2.2 Count bases\n",
    "Implement the following function with a single pass over the input string.\n",
    "Remember that you can assume the input to be a valid DNA string."
   ]
  },
  {
   "cell_type": "code",
   "execution_count": 9,
   "metadata": {
    "lines_to_next_cell": 0
   },
   "outputs": [],
   "source": [
    "def bases(dna: str) -> tuple:\n",
    "    \"\"\"Return how often A, C, G and T occur in `dna`.\"\"\"\n",
    "    pass\n",
    "\n",
    "assert bases('TATTAG') == (2, 0, 1, 3)  # two As, no C, one G, three Ts\n",
    "assert bases('GAGA') == (2, 0, 2, 0)    # two As, no C, two Gs, no T"
   ]
  },
  {
   "cell_type": "markdown",
   "metadata": {
    "lines_to_next_cell": 0
   },
   "source": [
    "Python has a built-in function to count how often a character appears\n",
    "in a string. (Do a web search if you don't know which function it is.)\n",
    "Reimplement the counting of bases using that function."
   ]
  },
  {
   "cell_type": "code",
   "execution_count": 10,
   "metadata": {
    "lines_to_next_cell": 0
   },
   "outputs": [],
   "source": [
    "def bases_builtin(dna: str) -> tuple:\n",
    "    \"\"\"Return how often A, C, G and T occur in `dna`.\n",
    "\n",
    "    This version uses a built-in Python function.\"\"\"\n",
    "    pass\n",
    "\n",
    "assert bases_builtin('TATTAG') == (2, 0, 1, 3)\n",
    "assert bases_builtin('GAGA') == (2, 0, 2, 0)"
   ]
  },
  {
   "cell_type": "markdown",
   "metadata": {
    "lines_to_next_cell": 0
   },
   "source": [
    "Next, measure the run-times of both functions on the random DNA string.\n",
    "Which function is faster: `bases`, which does a single pass of the string,\n",
    "or `bases_builtin`, which does multiple passes but uses a built-in function?"
   ]
  },
  {
   "cell_type": "code",
   "execution_count": 11,
   "metadata": {
    "lines_to_next_cell": 0
   },
   "outputs": [],
   "source": [
    "# measure the run-time of bases(random_dna)\n",
    "# measure the run-time of bases_builtin(random_dna)"
   ]
  },
  {
   "cell_type": "markdown",
   "metadata": {
    "lines_to_next_cell": 0
   },
   "source": [
    "These exercises are an extension of Rosalind problem\n",
    "[DNA](http://rosalind.info/problems/dna).\n",
    "\n",
    "**Further exercises:**\n",
    "\n",
    "1. Reimplement `gc_content` using the faster of `bases` and `bases_builtin`.\n",
    "2. Change `bases` (or `bases_builtin`) so that it can handle any string,\n",
    "   not just valid DNA strings.\n",
    "3. Reimplement `is_dna`, using `bases` or `bases_builtin`.\n",
    "\n",
    "### 2.3 The usual suspects\n",
    "Given a DNA found at a crime scene and the DNA of several suspects,\n",
    "determine which suspect (or suspects) best match the found DNA,\n",
    "using Hamming distance as the similarity measure."
   ]
  },
  {
   "cell_type": "code",
   "execution_count": 12,
   "metadata": {},
   "outputs": [],
   "source": [
    "def best_match(dna: str, suspects: list) -> list:\n",
    "    \"\"\"Return the name(s) of the suspect(s) that best match `dna`.\n",
    "\n",
    "    `suspects` is a non-empty list of string pairs (name, DNA).\n",
    "    All DNA strings have the same length.\n",
    "    \"\"\"\n",
    "    pass\n",
    "\n",
    "suspects = [('John', 'ACGT'), ('Jane', 'CGTA'), ('Mary', 'AACG')]\n",
    "\n",
    "# matches exactly one suspect\n",
    "assert best_match('ACGT', suspects) == ['John']\n",
    "# distances: John 3, Jane 1, Mary 4\n",
    "assert best_match('CGGA', suspects) == ['Jane']\n",
    "# distances: John 3, Jane 2, Mary 2\n",
    "assert best_match('AGCA', suspects) == ['Jane', 'Mary']"
   ]
  },
  {
   "cell_type": "markdown",
   "metadata": {
    "lines_to_next_cell": 0
   },
   "source": [
    "### 2.4 Common ancestor\n",
    "Given a collection of strings, a consensus string has the smallest total\n",
    "Hamming distance to all those strings.\n",
    "The consensus string can be computed by taking, for each position,\n",
    "the character that occurs most often at that position in all input strings.\n",
    "If multiple characters occur equally often, any of them can be chosen.\n",
    "For this exercise you can assume that situation doesn't occur.\n",
    "\n",
    "For example, if the input strings are 'on', 'of' and 'if', then\n",
    "the most common first letter is 'o' and the most common second letter is 'f',\n",
    "so the consensus string is 'of'.\n",
    "Usually, the consensus string is not one of the input strings.\n",
    "\n",
    "If the input are DNA strings, the consensus string is likely to resemble\n",
    "the DNA of a common evolutionary ancestor."
   ]
  },
  {
   "cell_type": "code",
   "execution_count": 13,
   "metadata": {
    "lines_to_next_cell": 0
   },
   "outputs": [],
   "source": [
    "def consensus(strings: list) -> str:\n",
    "    \"\"\"Return the string formed from the most common character at each position.\n",
    "\n",
    "    All strings have the same length. The consensus string will be unique.\n",
    "    \"\"\"\n",
    "    pass\n",
    "\n",
    "assert consensus(['hi']) == 'hi'            # one string\n",
    "assert consensus(['in', 'in']) == 'in'      # all equal\n",
    "assert consensus(['on', 'of', 'if']) == 'of'\n",
    "assert consensus(['as', 'us', 'in', 'if']) == 'is'\n",
    "assert consensus(['AGGT', 'ACTT', 'CCGT']) == 'ACGT'"
   ]
  },
  {
   "cell_type": "markdown",
   "metadata": {
    "lines_to_next_cell": 0
   },
   "source": [
    "This is a simplification of Rosalind problem\n",
    "[CONS](http://rosalind.info/problems/cons/).\n",
    "\n",
    "### 2.5 Proteins\n",
    "Proteins are chains of amino acids.\n",
    "There are 20 amino acids that appear commonly in all species. They are\n",
    "represented by the letters of the English alphabet except B, J, O, U, X, Z.\n",
    "\n",
    "Messenger RNA (mRNA) contains the genetic code that determines the proteins\n",
    "to be produced.\n",
    "Every 3 bases (a codon) in mRNA encode the production of one amino acid.\n",
    "There are $4^3 = 64$ codons, so multiple codons may encode the same acid.\n",
    "The production starts with codon AUG and stops with codon UAA, UAG or UGA.\n",
    "The following image shows the effect of each codon.\n",
    "You can ignore the red lines and numbers.\n",
    "\n",
    "![Codon wheel](https://upload.wikimedia.org/wikipedia/commons/thumb/7/70/Aminoacids_table.svg/488px-Aminoacids_table.svg.png)\n",
    "\n",
    "(_Image by Mouagip in the public domain, via [Wikimedia Commons](https://commons.wikimedia.org/wiki/File:Aminoacids_table.svg)_)\n",
    "\n",
    "The wheel is read from the centre to the outside.\n",
    "For example, start codon AUG produces amino acid methionine (M),\n",
    "codon UGG produces tryptophan (W), UGU produces cysteine (C),\n",
    "but the stop codons don't produce any amino acid.\n",
    "\n",
    "Write a function that returns the protein encoded in a given mRNA strand.\n",
    "You can assume the number of bases is a multiple of 3.\n",
    "Start the decoding at the first occurrence of the start codon and\n",
    "stop it at the first occurrence of a stop codon or when the mRNA strand ends.\n",
    "Look at the tests to understand what the decoding produces."
   ]
  },
  {
   "cell_type": "code",
   "execution_count": 14,
   "metadata": {
    "lines_to_next_cell": 0
   },
   "outputs": [],
   "source": [
    "def protein(mrna: str) -> str:\n",
    "    \"\"\"Return the amino acids encoded in `mrna`.\"\"\"\n",
    "    pass\n",
    "\n",
    "# don't produce anything if there's no start codon\n",
    "assert protein('GGAUUU') == ''\n",
    "# stop at the end if there's no stop codon\n",
    "assert protein('AUG') == 'M'\n",
    "# ignore everything (even stop codons) before the first start codon\n",
    "assert protein('GGAUGAAUGGGA') == 'MG'\n",
    "# ignore everything (even start codons) after stopping transcription\n",
    "assert protein('AUGUAAAUG') == 'M'\n",
    "# a longer example\n",
    "assert protein('AUGGCCAUGGCGCCCAGAACUGAGAUCAAUAGUACCCGUAUUAACGGGUGA') == 'MAMAPRTEINSTRING'"
   ]
  },
  {
   "cell_type": "markdown",
   "metadata": {},
   "source": [
    "This is a harder version of Rosalind problem\n",
    "[PROT](http://rosalind.info/problems/prot), which seems to assume that\n",
    "the string begins with start codon AUG and ends with stop codon UAA, UAG or UGA."
   ]
  }
 ],
 "metadata": {
  "kernelspec": {
   "display_name": "Python 3",
   "language": "python",
   "name": "python3"
  },
  "language_info": {
   "codemirror_mode": {
    "name": "ipython",
    "version": 3
   },
   "file_extension": ".py",
   "mimetype": "text/x-python",
   "name": "python",
   "nbconvert_exporter": "python",
   "pygments_lexer": "ipython3",
   "version": "3.8.5"
  }
 },
 "nbformat": 4,
 "nbformat_minor": 4
}
